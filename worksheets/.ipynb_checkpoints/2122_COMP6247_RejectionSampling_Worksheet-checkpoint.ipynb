{
 "cells": [
  {
   "cell_type": "markdown",
   "metadata": {},
   "source": [
    "# MCMC - Rejection Sampling"
   ]
  },
  {
   "cell_type": "code",
   "execution_count": null,
   "metadata": {},
   "outputs": [],
   "source": [
    "%matplotlib inline\n",
    "import matplotlib as mpl\n",
    "import matplotlib.pyplot as plt\n",
    "import seaborn as sns; sns.set()\n",
    "import numpy as np\n",
    "from matplotlib import cm\n",
    "from mpl_toolkits.mplot3d import Axes3D\n",
    "from matplotlib.colors import LogNorm\n",
    "import random\n",
    "%matplotlib inline\n",
    "from matplotlib import animation, rc\n",
    "from IPython.display import HTML\n",
    "\n",
    "import numpy as np\n",
    "import scipy as sp\n",
    "import pandas as pd\n",
    "import matplotlib.pyplot as plt\n",
    "import seaborn as sns\n",
    "\n",
    "from scipy.stats import norm"
   ]
  },
  {
   "cell_type": "code",
   "execution_count": null,
   "metadata": {},
   "outputs": [],
   "source": [
    "fontsize = 40\n",
    "scattersize=100\n",
    "surf_labelpad = 50.\n",
    "\n",
    "plt.style.use(\"seaborn\")\n",
    "plt.rcParams.update({'figure.figsize': (20,15), 'font.size': fontsize, 'axes.labelsize': fontsize, 'axes.labelpad': 15., 'text.usetex':True, 'xtick.labelsize': fontsize, 'xtick.major.pad': 20., 'ytick.labelsize': fontsize, 'ytick.major.pad': 20., })"
   ]
  },
  {
   "cell_type": "code",
   "execution_count": null,
   "metadata": {},
   "outputs": [],
   "source": [
    "rng = np.random.RandomState(13)"
   ]
  },
  {
   "cell_type": "markdown",
   "metadata": {},
   "source": [
    "## Example: Mixture of Gaussians"
   ]
  },
  {
   "cell_type": "markdown",
   "metadata": {},
   "source": [
    "Define target, $p(x)$, and proposal, $q(x)$:"
   ]
  },
  {
   "cell_type": "code",
   "execution_count": null,
   "metadata": {},
   "outputs": [],
   "source": [
    "def p(x):\n",
    "    return 0.3*sp.stats.norm.pdf(x, loc=30, scale=10) + 0.7*sp.stats.norm.pdf(x, loc=80, scale=20)\n",
    "\n",
    "\n",
    "def q(x):\n",
    "    return sp.stats.norm.pdf(x, loc=50, scale=30)\n"
   ]
  },
  {
   "cell_type": "markdown",
   "metadata": {},
   "source": [
    "Rejection sampling:"
   ]
  },
  {
   "cell_type": "code",
   "execution_count": null,
   "metadata": {},
   "outputs": [],
   "source": [
    "def plot_proposal(fig, ax, x, pdf_target, pdf_proposal, z, kq_z, p_z, accepted=None, i=None, colors=None, plot_pz=True):   \n",
    "    if colors is None:\n",
    "        colors = ['darkorange', 'navy', 'cornflowerblue']\n",
    "    ylim = max(pdf_proposal)\n",
    "    ylim += ylim*0.05\n",
    "\n",
    "    ax.cla()\n",
    "\n",
    "    if i is not None:\n",
    "        fig.suptitle('Iteration %i' % (i + 1))\n",
    "    if accepted is not None:\n",
    "        color = 'g' if accepted else 'r'\n",
    "    else:\n",
    "        color = 'k'\n",
    "        \n",
    "    # Plot prior\n",
    "    ax.plot(x, pdf_target, color=colors[0], linewidth=2.5, label='Target pdf, $p(z)$')\n",
    "    ax.plot(x, pdf_proposal, color=colors[1], linewidth=2.5, label='Comparison function, $k\\,q(z)$')\n",
    "\n",
    "    # Stem plot of current sample and proposal:\n",
    "    ax.plot([z]*2, [0, kq_z], color=color, label='$k\\,q(\\\\tilde{z})$')\n",
    "    ax.scatter(z, kq_z, s=100, color=color)\n",
    "    \n",
    "    if plot_pz:\n",
    "        ax.scatter(z, p_z, s=200, color=color, label='$p(\\\\tilde{z})$')\n",
    "\n",
    "    ax.set(xlabel='$z$', ylabel='Probability Density')\n",
    "    ax.set_ylim(0,ylim)\n",
    "    plt.legend(fontsize=fontsize, loc='upper left')\n",
    "\n",
    "    return ax"
   ]
  },
  {
   "cell_type": "code",
   "execution_count": null,
   "metadata": {},
   "outputs": [],
   "source": [
    "def animate(frame, fargs):\n",
    "    print(frame)\n",
    "    \n",
    "    x = fargs['x']\n",
    "    fig = fargs['fig']\n",
    "    ax = fargs['ax']\n",
    "    pdf_target = fargs['pdf_target']\n",
    "    pdf_proposal = fargs['pdf_proposal']\n",
    "    z = fargs['trace'][frame]\n",
    "    kq_z = fargs['hist_kq_z'][frame]\n",
    "    p_z = fargs['hist_p_z'][frame]\n",
    "    accepted = fargs['hist_accepted'][frame]\n",
    "\n",
    "\n",
    "    # z|X \\sim N(m, P)\n",
    "    ax = plot_proposal(fig, ax, x, pdf_target, pdf_proposal, z, kq_z, p_z, accepted, frame)\n",
    "\n",
    "    return ax"
   ]
  },
  {
   "cell_type": "code",
   "execution_count": null,
   "metadata": {},
   "outputs": [],
   "source": [
    "def rejection_sampling(iter=1000, x=None, plot=False):\n",
    "    samples = []\n",
    "    if plot:\n",
    "        fig, ax = plt.subplots()\n",
    "    trace = []\n",
    "    hist_kq_z = []\n",
    "    hist_p_z = []\n",
    "    hist_accepted = []\n",
    "        \n",
    "    for i in range(iter):\n",
    "        # Insert your code here! Hint: You need to assign the following variables:\n",
    "        # z = ?\n",
    "        # u = ?\n",
    "        # accepted = ?\n",
    "        \n",
    "        if accepted:\n",
    "            samples.append(z)\n",
    "\n",
    "\n",
    "        trace.append(z)\n",
    "        hist_kq_z.append(k*q(z))\n",
    "        hist_p_z.append(p(z))\n",
    "        hist_accepted.append(accepted)\n",
    "            \n",
    "    if plot:\n",
    "        # Generate animation from history of samples:\n",
    "        print('Finished simulation. Generating animation...')\n",
    "        ani = animation.FuncAnimation(fig, animate, frames=iter, \n",
    "                                      fargs=[{'fig':fig, 'ax':ax, 'x':x, \n",
    "                                              'pdf_target':p(x), 'pdf_proposal':k*q(x),\n",
    "                                              'trace':trace, 'hist_kq_z':hist_kq_z, 'hist_p_z':hist_p_z, 'hist_accepted':hist_accepted}])\n",
    "        HTML(ani.to_jshtml())\n",
    "        print('Finished animation. Saving...')\n",
    "        ani.save('./RejectionSampling.gif', writer='imagemagick', fps=1, dpi=50)\n",
    "\n",
    "    return np.array(samples)"
   ]
  },
  {
   "cell_type": "code",
   "execution_count": null,
   "metadata": {},
   "outputs": [],
   "source": [
    "x = np.arange(-50, 151)\n",
    "k = max(p(x) / q(x))\n",
    "ylim = max(k*q(x)) \n",
    "ylim += ylim*0.05\n",
    "\n",
    "colors = ['darkorange', 'navy', 'cornflowerblue']\n",
    "\n",
    "fig, ax = plt.subplots()\n",
    "plt.plot(x, p(x), color=colors[0], label='Target pdf, $p(z)$')\n",
    "plt.legend(fontsize=fontsize, loc='upper left')\n",
    "plt.xlabel('$z$')\n",
    "plt.ylabel('Probability density')\n",
    "ax.set_ylim(0,ylim)\n",
    "plt.show()"
   ]
  },
  {
   "cell_type": "code",
   "execution_count": null,
   "metadata": {},
   "outputs": [],
   "source": [
    "fig, ax = plt.subplots()\n",
    "plt.plot(x, p(x), color=colors[0], label='Target pdf, $p(z)$')\n",
    "plt.plot(x, q(x), color=colors[1], label='Proposal pdf, $q(z)$')\n",
    "plt.xlabel('$z$')\n",
    "plt.ylabel('Probability density')\n",
    "plt.legend(fontsize=fontsize, loc='upper left')\n",
    "ax.set_ylim(0,ylim)\n",
    "plt.show()"
   ]
  },
  {
   "cell_type": "code",
   "execution_count": null,
   "metadata": {},
   "outputs": [],
   "source": [
    "fig, ax = plt.subplots()\n",
    "plt.plot(x, p(x), color=colors[0], label='Target pdf, $p(z)$')\n",
    "plt.plot(x, k*q(x), color=colors[1], label='Comparison function, $k\\,q(z)$')\n",
    "plt.xlabel('$z$')\n",
    "plt.ylabel('Probability density')\n",
    "ax.set_ylim(0,ylim)\n",
    "xlim = ax.get_xlim()\n",
    "plt.legend(fontsize=fontsize, loc='upper left')\n",
    "plt.show()"
   ]
  },
  {
   "cell_type": "code",
   "execution_count": null,
   "metadata": {},
   "outputs": [],
   "source": [
    "z = 75\n",
    "\n",
    "fig, ax = plt.subplots()\n",
    "plot_proposal(fig, ax, x, p(x), k*q(x), z, k*q(z), p(z), plot_pz=False)\n",
    "plt.legend(fontsize=fontsize, loc='upper left')\n"
   ]
  },
  {
   "cell_type": "code",
   "execution_count": null,
   "metadata": {},
   "outputs": [],
   "source": [
    "fig, ax = plt.subplots()\n",
    "plot_proposal(fig, ax, x, p(x), k*q(x), z, k*q(z), p(z), plot_pz=True)\n",
    "ax.text(z+2, p(z)+p(z)*0.1, '$p(\\\\tilde{z}) = '+str(round(p(z),3))+'$')\n",
    "ax.text(z+2, k*q(z)+k*q(z)*0.05, '$k\\,q(\\\\tilde{z}) = '+str(round(k*q(z),3))+'$')\n",
    "plt.legend(fontsize=fontsize, loc='upper left')\n",
    "\n",
    "print(p(z))\n",
    "print(np.random.uniform(0, k*q(z)))"
   ]
  },
  {
   "cell_type": "code",
   "execution_count": null,
   "metadata": {},
   "outputs": [],
   "source": [
    "fig, ax = plt.subplots()\n",
    "plot_proposal(fig, ax, x, p(x), k*q(x), z, k*q(z), p(z), plot_pz=True)\n",
    "ax.text(z+2, p(z)+p(z)*0.1, '$p(\\\\tilde{z}) = '+str(round(p(z),3))+'$')\n",
    "ax.text(z+2, k*q(z)+k*q(z)*0.05, '$k\\,q(\\\\tilde{z}) = '+str(round(k*q(z),3))+'$')\n",
    "plt.legend(fontsize=fontsize, loc='upper left')\n",
    "\n",
    "u = 0.006\n",
    "plt.scatter(z, u, s=100, color='r')\n",
    "ax.text(z+2, u+u*0.05, '$u\\sim \\mathcal{U}[0,k\\,q(\\\\tilde{z})] = '+str(round(u,3))+'$')\n",
    "\n",
    "print(p(z))\n",
    "print(np.random.uniform(0, k*q(z)))"
   ]
  },
  {
   "cell_type": "code",
   "execution_count": null,
   "metadata": {},
   "outputs": [],
   "source": [
    "fig, ax = plt.subplots()\n",
    "plot_proposal(fig, ax, x, p(x), k*q(x), z, k*q(z), p(z), plot_pz=True, accepted=1)\n",
    "ax.text(z+2, p(z)+p(z)*0.1, '$p(\\\\tilde{z}) = '+str(round(p(z),3))+'$')\n",
    "ax.text(z+2, k*q(z)+k*q(z)*0.05, '$k\\,q(\\\\tilde{z}) = '+str(round(k*q(z),3))+'$')\n",
    "plt.legend(fontsize=fontsize, loc='upper left')\n",
    "\n",
    "u = 0.006\n",
    "plt.scatter(z, u, s=100, color='r')\n",
    "ax.text(z+2, u+u*0.05, '$u\\sim \\mathcal{U}[0,k\\,q(\\\\tilde{z})] = '+str(round(u,3))+'$')\n",
    "\n",
    "print(p(z))\n",
    "print(np.random.uniform(0, k*q(z)))"
   ]
  },
  {
   "cell_type": "code",
   "execution_count": null,
   "metadata": {},
   "outputs": [],
   "source": [
    "samples = rejection_sampling(iter=50, x=x, plot=True)"
   ]
  },
  {
   "cell_type": "code",
   "execution_count": null,
   "metadata": {},
   "outputs": [],
   "source": [
    "samples = rejection_sampling(iter=100000)"
   ]
  },
  {
   "cell_type": "code",
   "execution_count": null,
   "metadata": {},
   "outputs": [],
   "source": [
    "fig, ax = plt.subplots()\n",
    "plt.plot(x, p(x), color=colors[0], label='Target pdf, $p(z)$')\n",
    "plt.plot(x, k*q(x), color=colors[1], label='Comparison function, $k\\,q(z)$')\n",
    "plt.hist(samples, density=True, bins=50, alpha=0.5, label='Histogram of samples', color=colors[0])\n",
    "ax.set_ylim(0,ylim)\n",
    "ax.set_xlim(xlim)\n",
    "plt.xlabel('$z$')\n",
    "plt.ylabel('Probability density')\n",
    "plt.legend(fontsize=fontsize, loc='upper left')\n",
    "plt.show()\n"
   ]
  },
  {
   "cell_type": "code",
   "execution_count": null,
   "metadata": {},
   "outputs": [],
   "source": []
  }
 ],
 "metadata": {
  "kernelspec": {
   "display_name": "Python 3",
   "language": "python",
   "name": "python3"
  },
  "language_info": {
   "codemirror_mode": {
    "name": "ipython",
    "version": 3
   },
   "file_extension": ".py",
   "mimetype": "text/x-python",
   "name": "python",
   "nbconvert_exporter": "python",
   "pygments_lexer": "ipython3",
   "version": "3.8.5"
  }
 },
 "nbformat": 4,
 "nbformat_minor": 4
}
