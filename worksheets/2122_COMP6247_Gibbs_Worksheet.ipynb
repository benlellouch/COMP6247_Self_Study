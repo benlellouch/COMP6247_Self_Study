{
 "cells": [
  {
   "cell_type": "markdown",
   "metadata": {},
   "source": [
    "# MCMC - Gibbs Sampler"
   ]
  },
  {
   "cell_type": "code",
   "execution_count": null,
   "metadata": {},
   "outputs": [],
   "source": [
    "import matplotlib as mpl\n",
    "import matplotlib.pyplot as plt\n",
    "import seaborn as sns; sns.set()\n",
    "import numpy as np\n",
    "from matplotlib import cm\n",
    "from mpl_toolkits.mplot3d import Axes3D\n",
    "from matplotlib.colors import LogNorm\n",
    "import random\n",
    "%matplotlib inline\n",
    "from matplotlib import animation, rc\n",
    "from IPython.display import HTML\n",
    "\n",
    "import numpy as np\n",
    "import scipy as sp\n",
    "import pandas as pd\n",
    "import matplotlib.pyplot as plt\n",
    "import seaborn as sns\n",
    "\n",
    "from scipy.stats import norm"
   ]
  },
  {
   "cell_type": "code",
   "execution_count": null,
   "metadata": {},
   "outputs": [],
   "source": [
    "fontsize = 40\n",
    "scattersize=100\n",
    "surf_labelpad = 50.\n",
    "\n",
    "plt.style.use(\"seaborn\")\n",
    "plt.rcParams.update({'figure.figsize': (20,15), 'font.size': fontsize, 'axes.labelsize': fontsize, 'axes.labelpad': 15., 'text.usetex':True, 'xtick.labelsize': fontsize, 'xtick.major.pad': 20., 'ytick.labelsize': fontsize, 'ytick.major.pad': 20., })"
   ]
  },
  {
   "cell_type": "code",
   "execution_count": null,
   "metadata": {},
   "outputs": [],
   "source": [
    "rng = np.random.RandomState(13)"
   ]
  },
  {
   "cell_type": "markdown",
   "metadata": {},
   "source": [
    "## Example: Sample from multivariate Gaussian"
   ]
  },
  {
   "cell_type": "code",
   "execution_count": null,
   "metadata": {},
   "outputs": [],
   "source": [
    "def gibbs_sampling(mus, sigmas, iters=10000):\n",
    "    samples = np.zeros((iters, 2))\n",
    "    y = np.random.rand() * 10\n",
    "\n",
    "    for i in range(iters):\n",
    "        # Insert your code here. Hint: You need to assing:\n",
    "        # x = ?\n",
    "        # y = ?\n",
    "\n",
    "        samples[i, :] = [x, y]\n",
    "\n",
    "    return samples"
   ]
  },
  {
   "cell_type": "code",
   "execution_count": null,
   "metadata": {},
   "outputs": [],
   "source": [
    "target_mu = np.array([5, 5])\n",
    "target_sigma = np.array([[1, .9], [.9, 1]])\n",
    "iters=100\n",
    "\n",
    "samples = gibbs_sampling(target_mu, target_sigma, iters=iters)"
   ]
  },
  {
   "cell_type": "code",
   "execution_count": null,
   "metadata": {},
   "outputs": [],
   "source": [
    "sns.jointplot(x=samples[:, 0], y=samples[:, 1])\n",
    "fig = plt.gcf()\n",
    "fig.set_tight_layout(False)"
   ]
  },
  {
   "cell_type": "markdown",
   "metadata": {},
   "source": [
    "Show how the Gibbs sampler moves:"
   ]
  },
  {
   "cell_type": "code",
   "execution_count": null,
   "metadata": {},
   "outputs": [],
   "source": [
    "def multivariate_gaussian(pos, mu, Sigma):\n",
    "    \"\"\"Return the multivariate Gaussian distribution on array pos.\n",
    "\n",
    "    pos is an array constructed by packing the meshed arrays of variables\n",
    "    x_1, x_2, x_3, ..., x_k into its _last_ dimension.\n",
    "\n",
    "    \"\"\"\n",
    "\n",
    "    n = mu.shape[0]\n",
    "    Sigma_det = np.linalg.det(Sigma)\n",
    "    Sigma_inv = np.linalg.inv(Sigma)\n",
    "    N = np.sqrt((2*np.pi)**n * Sigma_det)\n",
    "    # This einsum call calculates (x-mu)T.Sigma-1.(x-mu) in a vectorized\n",
    "    # way across all the input variables.\n",
    "    fac = np.einsum('...k,kl,...l->...', pos-mu, Sigma_inv, pos-mu)\n",
    "\n",
    "    return np.exp(-fac / 2) / N"
   ]
  },
  {
   "cell_type": "code",
   "execution_count": null,
   "metadata": {},
   "outputs": [],
   "source": [
    "def animate(frame, fargs):\n",
    "#     from cycler import cycler\n",
    "    ax = fargs['ax']\n",
    "    samples = fargs['samples']\n",
    "    pos = fargs['pos']\n",
    "    target_mu = fargs['target_mu']\n",
    "    target_sigma = fargs['target_sigma']\n",
    "    X = fargs['X']\n",
    "    Y = fargs['Y']\n",
    "    \n",
    "    ax.cla()\n",
    "    \n",
    "    # Plot contour of target:\n",
    "    Z = multivariate_gaussian(pos, target_mu, target_sigma)\n",
    "    cset = ax.contour(X, Y, Z, cmap=cm.cividis, linewidths=0.5)\n",
    "    ax.clabel(cset, inline=1, fontsize=10)\n",
    "\n",
    "    # Plot history of samples:\n",
    "    colors = [plt.cm.viridis(i) for i in np.linspace(0, 1, iters)]\n",
    "    ax.set_prop_cycle(cycler('color', colors))\n",
    "    h = []\n",
    "    for t in range(frame):\n",
    "        h = plt.plot(samples[t:t+2,0], samples[t:t+2,1], marker='o')\n",
    "    ax.set_xlim(min(samples[:,0]), max(samples[:,0]))\n",
    "    ax.set_ylim(min(samples[:,1]), max(samples[:,1]))\n",
    "    plt.xlabel('$z_1$')\n",
    "    plt.ylabel('$z_2$')\n",
    "    \n",
    "    return h"
   ]
  },
  {
   "cell_type": "code",
   "execution_count": null,
   "metadata": {},
   "outputs": [],
   "source": [
    "from cycler import cycler\n",
    "\n",
    "fig, ax = plt.subplots()\n",
    "\n",
    "# Plot contour of target multivariate Gaussian:\n",
    "X,Y = np.meshgrid(np.linspace(min(samples[:,0]), max(samples[:,0]), 1000), np.linspace(min(samples[:,1]), max(samples[:,1]),1000))\n",
    "pos = np.empty(X.shape + (2,))\n",
    "pos[:, :, 0] = X\n",
    "pos[:, :, 1] = Y\n",
    "\n",
    "sm = plt.cm.ScalarMappable(cmap='viridis')\n",
    "sm.set_clim(0, iters)\n",
    "plt.colorbar(sm, ticks=np.linspace(0,iters,5), label='Iteration')\n",
    "\n",
    "# ax.cla()\n",
    "colors = [plt.cm.viridis(i) for i in np.linspace(0, 1, iters)]\n",
    "ax.set_prop_cycle(cycler('color', colors))\n",
    "h = []\n",
    "for t in range(iters):\n",
    "    h = plt.plot(samples[t:t+2,0], samples[t:t+2,1], marker='o')\n",
    "ax.set_xlim(min(samples[:,0]), max(samples[:,0]))\n",
    "ax.set_ylim(min(samples[:,1]), max(samples[:,1]))\n",
    "plt.xlabel('$x_1$')\n",
    "plt.ylabel('$x_2$')\n",
    "# plt.legend(fontsize=fontsize)\n",
    "\n",
    "# Generate animation from history of samples:\n",
    "ani = animation.FuncAnimation(fig, animate, frames=iters, fargs=[{'ax':ax, 'samples':samples, 'pos':pos, \n",
    "                                                                  'target_mu':target_mu, 'target_sigma':target_sigma, \n",
    "                                                                  'X':X, 'Y':Y}], blit=True)\n",
    "HTML(ani.to_jshtml())\n",
    "print('Finished animation. Saving...')\n",
    "ani.save('./Gibbs.gif', writer='imagemagick', fps=5, dpi=50)"
   ]
  },
  {
   "cell_type": "code",
   "execution_count": null,
   "metadata": {},
   "outputs": [],
   "source": []
  }
 ],
 "metadata": {
  "kernelspec": {
   "display_name": "Python 3",
   "language": "python",
   "name": "python3"
  },
  "language_info": {
   "codemirror_mode": {
    "name": "ipython",
    "version": 3
   },
   "file_extension": ".py",
   "mimetype": "text/x-python",
   "name": "python",
   "nbconvert_exporter": "python",
   "pygments_lexer": "ipython3",
   "version": "3.8.5"
  }
 },
 "nbformat": 4,
 "nbformat_minor": 4
}
