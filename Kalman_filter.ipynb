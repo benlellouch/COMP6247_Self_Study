{
 "cells": [
  {
   "cell_type": "code",
   "execution_count": 136,
   "id": "0306c9ea-3be9-4dd6-a98a-32497889660c",
   "metadata": {},
   "outputs": [],
   "source": [
    "import numpy as np\n",
    "import matplotlib.pyplot as plt\n",
    "plt.rcParams[\"figure.figsize\"] = (10,5)\n"
   ]
  },
  {
   "cell_type": "markdown",
   "id": "8dc7a6dd-19ec-4604-9c0f-0b62966b1f24",
   "metadata": {},
   "source": [
    "In this example, we would like to estimate the location of the vehicle in the XY plane.\n",
    "\n",
    "The vehicle has an onboard location sensor that reports X and Y coordinates of the system.\n",
    "\n",
    "We assume constant acceleration dynamics.\n",
    "\n"
   ]
  },
  {
   "cell_type": "code",
   "execution_count": 122,
   "id": "9e0434f3-db2a-4472-bb9c-8b72435772db",
   "metadata": {},
   "outputs": [],
   "source": [
    "# We generate the car's x.y coordinates that the Kalman filter is going to try to predict\n",
    "def generate_true_pos():\n",
    "    coords = []\n",
    "    for i in range(400):\n",
    "        coords.append((i,300))\n",
    "    for i in range(300):\n",
    "        coords.append(((i+400), np.sqrt(300**2 - i ** 2)))\n",
    "    return coords\n",
    "    \n",
    "        "
   ]
  },
  {
   "cell_type": "code",
   "execution_count": 123,
   "id": "2a5bd34a-f639-4410-9b53-f7bb90c5eadc",
   "metadata": {},
   "outputs": [],
   "source": [
    "dt = 1\n",
    "random_acceleration_std = 0.5\n",
    "measurement_error_std = 3\n",
    "\n",
    "full_coords = generate_true_pos()\n",
    "true_coords = []\n",
    "for i in range(len(full_coords)):\n",
    "    if i % 5 == 0:\n",
    "        true_coords.append(full_coords[i])\n",
    "\n",
    "x_err = np.random.normal(0,3,len(true_coords))\n",
    "y_err = np.random.normal(0,3,len(true_coords))\n",
    "\n",
    "measured_coords = [(true_coords[i][0] + x_err[i], true_coords[i][1] + y_err[i]) for i in range(len(true_coords))]"
   ]
  },
  {
   "cell_type": "code",
   "execution_count": 124,
   "id": "ead35d83-b521-4df2-9c44-329a7a4a55a9",
   "metadata": {},
   "outputs": [],
   "source": [
    "#state transition matrix\n",
    "F = np.identity(6)\n",
    "F[0][1] = 1\n",
    "F[1][2] = 1\n",
    "F[3][4] = 1\n",
    "F[4][5] = 1\n",
    "F[0][2] = 0.5\n",
    "F[3][5] = 0.5"
   ]
  },
  {
   "cell_type": "code",
   "execution_count": 125,
   "id": "7b888adc-9093-4b92-b139-544ac37e6e50",
   "metadata": {},
   "outputs": [],
   "source": [
    "#observation matrix\n",
    "H = np.zeros((2,6))\n",
    "H[0][0] = 1\n",
    "H[1][3] = 1"
   ]
  },
  {
   "cell_type": "code",
   "execution_count": 126,
   "id": "44f9b051-2225-47a0-9600-b9624aa537eb",
   "metadata": {},
   "outputs": [],
   "source": [
    "# process noise matrix \n",
    "Q = np.identity(6)\n",
    "Q[0][0] = 1/4\n",
    "Q[3][3] = 1/4\n",
    "for x,y in [(0,1),(0,2),(1,0),(2,0),(3,4),(3,5),(4,3),(5,3)]:\n",
    "    Q[x][y] = 1/2\n",
    "Q *=  (random_acceleration_std ** 2)"
   ]
  },
  {
   "cell_type": "code",
   "execution_count": 127,
   "id": "a467b1b4-d84d-4ff6-97fa-cb35946a48ee",
   "metadata": {},
   "outputs": [],
   "source": [
    "#measurement uncertainty \n",
    "R = np.array([[9,0],[0,9]])"
   ]
  },
  {
   "cell_type": "code",
   "execution_count": 128,
   "id": "3e616d7f-41d1-447e-aace-e931322298b9",
   "metadata": {},
   "outputs": [],
   "source": [
    "# initilisation \n",
    "x_hat = np.zeros((1,6)).T \n",
    "P = np.identity(6) * 500 "
   ]
  },
  {
   "cell_type": "code",
   "execution_count": 129,
   "id": "47af3dac-8670-43a3-b012-36f200088ccc",
   "metadata": {},
   "outputs": [],
   "source": [
    "#first prediction\n",
    "P = F @ P @ F.T + Q"
   ]
  },
  {
   "cell_type": "code",
   "execution_count": 130,
   "id": "d9cb9aa7-68f6-40d0-8a3d-d38d9cd67c1d",
   "metadata": {},
   "outputs": [],
   "source": [
    "# iterations over the measurements\n",
    "\n",
    "state_ests = []\n",
    "preds = [x_hat] \n",
    "Ks = []\n",
    "\n",
    "for i in range(len(measured_coords)):\n",
    "    # step 1: measure\n",
    "    z = np.array([[measured_coords[i][0]],[measured_coords[i][1]]])\n",
    "    \n",
    "    # step 2: update\n",
    "    K = P @ H.T @ np.linalg.inv((H @ P @ H.T + R))\n",
    "    Ks.append(K)\n",
    "    x_est = preds[i] + K @ (z - H@preds[i])\n",
    "    P_curr = (np.identity(6) - K @ H) @ P @ (np.identity(6) - K @ H).T + K @ R @ K.T\n",
    "    state_ests.append(x_est)\n",
    "    \n",
    "    #step 3: predict\n",
    "    x_pred = F @ x_est\n",
    "    P = F @ P_curr @ F.T + Q\n",
    "    preds.append(x_pred)\n",
    "    \n",
    "    "
   ]
  },
  {
   "cell_type": "code",
   "execution_count": 131,
   "id": "e9bf810e-bbe6-4f5e-9a8d-e7d87877e5b7",
   "metadata": {},
   "outputs": [],
   "source": [
    "est_coords = [(est[0][0], est[3][0]) for est in state_ests]"
   ]
  },
  {
   "cell_type": "code",
   "execution_count": 137,
   "id": "a00e72e5-0f3f-443a-af95-5c55625d4875",
   "metadata": {},
   "outputs": [
    {
     "data": {
      "text/plain": [
       "<matplotlib.legend.Legend at 0x7f143d0f1070>"
      ]
     },
     "execution_count": 137,
     "metadata": {},
     "output_type": "execute_result"
    },
    {
     "data": {
      "image/png": "[encoded data removed]",
      "text/plain": [
       "<Figure size 720x360 with 1 Axes>"
      ]
     },
     "metadata": {
      "needs_background": "light"
     },
     "output_type": "display_data"
    }
   ],
   "source": [
    "plt.plot([coord[0] for coord in true_coords],[coord[1] for coord in true_coords], label = 'True value')\n",
    "plt.plot([coord[0] for coord in measured_coords], [coord[1] for coord in measured_coords], label= 'Measurements')\n",
    "plt.plot([coord[0] for coord in est_coords], [coord[1] for coord in est_coords], label= 'Estimates')\n",
    "plt.legend()"
   ]
  },
  {
   "cell_type": "code",
   "execution_count": 138,
   "id": "cc548e14-c543-4b3f-8880-f30778f4f66f",
   "metadata": {},
   "outputs": [
    {
     "data": {
      "text/plain": [
       "<matplotlib.legend.Legend at 0x7f143c104bb0>"
      ]
     },
     "execution_count": 138,
     "metadata": {},
     "output_type": "execute_result"
    },
    {
     "data": {
      "image/png": "[encoded data removed]",
      "text/plain": [
       "<Figure size 720x360 with 1 Axes>"
      ]
     },
     "metadata": {
      "needs_background": "light"
     },
     "output_type": "display_data"
    }
   ],
   "source": [
    "plt.plot([K[0][0] for K in Ks],label = 'Kalman Gain for Position')\n",
    "plt.legend()"
   ]
  },
  {
   "cell_type": "code",
   "execution_count": null,
   "id": "95856a38-9815-430a-b50c-f345c222bfce",
   "metadata": {},
   "outputs": [],
   "source": []
  }
 ],
 "metadata": {
  "kernelspec": {
   "display_name": "Python 3 (ipykernel)",
   "language": "python",
   "name": "python3"
  },
  "language_info": {
   "codemirror_mode": {
    "name": "ipython",
    "version": 3
   },
   "file_extension": ".py",
   "mimetype": "text/x-python",
   "name": "python",
   "nbconvert_exporter": "python",
   "pygments_lexer": "ipython3",
   "version": "3.9.7"
  }
 },
 "nbformat": 4,
 "nbformat_minor": 5
}
